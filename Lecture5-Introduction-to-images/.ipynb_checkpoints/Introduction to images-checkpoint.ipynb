{
 "cells": [
  {
   "cell_type": "markdown",
   "id": "14b92437",
   "metadata": {
    "slideshow": {
     "slide_type": "slide"
    }
   },
   "source": [
    "# Introduction to images\n",
    "\n"
   ]
  },
  {
   "cell_type": "markdown",
   "id": "a7de461f",
   "metadata": {
    "slideshow": {
     "slide_type": "slide"
    }
   },
   "source": [
    "## First, let's talk about variables again\n",
    "\n",
    "Remember when we used variables on the first day of class?"
   ]
  },
  {
   "cell_type": "code",
   "execution_count": 4,
   "id": "3b16b3df",
   "metadata": {
    "slideshow": {
     "slide_type": "slide"
    }
   },
   "outputs": [
    {
     "name": "stdout",
     "output_type": "stream",
     "text": [
      "What is your name? \n",
      "Hello, , it's nice to meet you\n",
      "How are you feeling? \n",
      "You're feeling ? Tell me more about that.\n"
     ]
    }
   ],
   "source": [
    "name = input(\"What is your name? \")\n",
    "print(f\"Hello, {name}, it's nice to meet you\")\n",
    "feeling = input(\"How are you feeling? \")\n",
    "print(f\"You're feeling {feeling}? Tell me more about that.\")"
   ]
  },
  {
   "cell_type": "markdown",
   "id": "b1b2e6f5",
   "metadata": {
    "slideshow": {
     "slide_type": "slide"
    }
   },
   "source": [
    "![variables explanation](https://upbeat-jones-dea93d.netlify.app/static/d9849be7cf06ddbe0b81f75afaf7f03b/10e91/variables.png)\n",
    "\n",
    "- variables have a _name_\n",
    "- variables store a _value_\n",
    "- variables have a _type_ (e.g. a string or an integer)\n",
    "  "
   ]
  },
  {
   "cell_type": "code",
   "execution_count": 18,
   "id": "d1a377af",
   "metadata": {
    "slideshow": {
     "slide_type": "slide"
    }
   },
   "outputs": [
    {
     "data": {
      "image/png": "[encoded data removed]",
      "text/plain": [
       "<Figure size 432x288 with 1 Axes>"
      ]
     },
     "metadata": {
      "needs_background": "light"
     },
     "output_type": "display_data"
    }
   ],
   "source": [
    "from bitlib import Bit\n",
    "bit = Bit.new_world(5,3)\n",
    "\n",
    "color = 'red' # instead of bit.paint('red')...\n",
    "bit.paint(color)\n",
    "bit.move()\n",
    "bit.paint(color)\n",
    "bit.draw()\n"
   ]
  },
  {
   "cell_type": "markdown",
   "id": "94cef8b5",
   "metadata": {
    "slideshow": {
     "slide_type": "slide"
    }
   },
   "source": [
    "## Variables can  store numbers"
   ]
  },
  {
   "cell_type": "code",
   "execution_count": 12,
   "id": "042ec84f",
   "metadata": {
    "slideshow": {
     "slide_type": "fragment"
    }
   },
   "outputs": [
    {
     "name": "stdout",
     "output_type": "stream",
     "text": [
      "42\n"
     ]
    }
   ],
   "source": [
    "number = 42\n",
    "print(number)"
   ]
  },
  {
   "cell_type": "markdown",
   "id": "96f95847",
   "metadata": {
    "slideshow": {
     "slide_type": "fragment"
    }
   },
   "source": [
    "- The _value_ of `number` is 42\n",
    "- The _type_ of `number` is integer"
   ]
  },
  {
   "cell_type": "markdown",
   "id": "6dfc4891",
   "metadata": {
    "slideshow": {
     "slide_type": "slide"
    }
   },
   "source": [
    "## Variable values can be the result of an expression"
   ]
  },
  {
   "cell_type": "code",
   "execution_count": 20,
   "id": "8a49fdc0",
   "metadata": {
    "slideshow": {
     "slide_type": "fragment"
    }
   },
   "outputs": [
    {
     "name": "stdout",
     "output_type": "stream",
     "text": [
      "7\n",
      "14\n"
     ]
    }
   ],
   "source": [
    "number = 1 + 2 * 3\n",
    "print(number)\n",
    "number = 2 * number\n",
    "print(number)"
   ]
  },
  {
   "cell_type": "markdown",
   "id": "c2acfb5d",
   "metadata": {
    "slideshow": {
     "slide_type": "slide"
    }
   },
   "source": [
    "# OK, let's talk about images"
   ]
  },
  {
   "cell_type": "markdown",
   "id": "00141582",
   "metadata": {
    "slideshow": {
     "slide_type": "slide"
    }
   },
   "source": [
    "## Pixels\n",
    "\n",
    "- Digital images consist of pixels\n",
    "- A pixel is a small square, showing a single color\n",
    "\n",
    "Download and view [pebbles.jpeg](https://upbeat-jones-dea93d.netlify.app/images/pebbles.jpeg) with an image viewer, zoom in, and see the pixels it uses.\n"
   ]
  },
  {
   "cell_type": "markdown",
   "id": "a7c447af",
   "metadata": {
    "slideshow": {
     "slide_type": "slide"
    }
   },
   "source": [
    "## RGB\n",
    "\n",
    "- each pixel can be controlled using a combination of red, green and blue\n",
    "- each color ranges from a value of 0 (minimum) to 255 (maximum)\n",
    "- these colors mix to form the color of the pixel\n",
    "- visit [rgb-explorer](http://web.stanford.edu/class/cs106a/handouts_w2021/rgb-explorer.html) to see color mixing in action\n"
   ]
  },
  {
   "cell_type": "markdown",
   "id": "b03a8b5a",
   "metadata": {
    "slideshow": {
     "slide_type": "slide"
    }
   },
   "source": [
    "## Accessing pixels\n",
    "\n",
    "- uses an x,y coordinate scheme, (0,0) at upper left\n",
    "- x values move from left to right\n",
    "- y values move from top to bottom\n",
    "- each pixel is one color, a mixture of three RGB values\n",
    "\n",
    "![image pixels](./image-pixels.png)"
   ]
  },
  {
   "cell_type": "markdown",
   "id": "378de792",
   "metadata": {
    "slideshow": {
     "slide_type": "slide"
    }
   },
   "source": [
    "## the simpleimage library\n",
    "\n",
    "- code we have written to make it easier to work with images\n",
    "- similar to bitlib, but in two dimensions!"
   ]
  },
  {
   "cell_type": "markdown",
   "id": "ada9e033",
   "metadata": {
    "slideshow": {
     "slide_type": "slide"
    }
   },
   "source": [
    "## Loading an image"
   ]
  },
  {
   "cell_type": "code",
   "execution_count": 24,
   "id": "c773730f",
   "metadata": {
    "slideshow": {
     "slide_type": "fragment"
    }
   },
   "outputs": [],
   "source": [
    "from simpleimage import SimpleImage\n",
    "\n",
    "image = SimpleImage('flower.jpeg')\n",
    "image.show()\n"
   ]
  },
  {
   "cell_type": "markdown",
   "id": "f2cb6990",
   "metadata": {
    "slideshow": {
     "slide_type": "slide"
    }
   },
   "source": [
    "## Modifying an image\n",
    "\n",
    "- Let's set the blue and green values in each pixel of the image to 0\n",
    "- this will leave just the red values -- the \"red channel\" of the image"
   ]
  },
  {
   "cell_type": "code",
   "execution_count": 27,
   "id": "2f8b1d30",
   "metadata": {
    "slideshow": {
     "slide_type": "fragment"
    }
   },
   "outputs": [],
   "source": [
    "image = SimpleImage(\"flower.jpeg\")\n",
    "for pixel in image:\n",
    "    pixel.green = 0\n",
    "    pixel.blue = 0\n",
    "red_flower.show()"
   ]
  },
  {
   "cell_type": "markdown",
   "id": "8aeb88ea",
   "metadata": {
    "slideshow": {
     "slide_type": "slide"
    }
   },
   "source": [
    "## Looping over the pixels\n",
    "\n",
    "- the pixels in the image are a _collection_\n",
    "- this collection is _ordered_ -> they go from left to right and top to bottom\n",
    "    - (0,0) -> (1,0) -> (2,0) ...\n",
    "    - (0,1) -> (1,1) -> (2,1) ..."
   ]
  },
  {
   "cell_type": "code",
   "execution_count": 27,
   "id": "dcab6656",
   "metadata": {
    "slideshow": {
     "slide_type": "fragment"
    }
   },
   "outputs": [],
   "source": [
    "image = SimpleImage(\"flower.jpeg\")\n",
    "for pixel in image:\n",
    "    pixel.green = 0\n",
    "    pixel.blue = 0\n",
    "red_flower.show()"
   ]
  },
  {
   "cell_type": "markdown",
   "id": "0032e3a4",
   "metadata": {
    "slideshow": {
     "slide_type": "slide"
    }
   },
   "source": [
    "## Looping over the pixels\n",
    "\n",
    "- each time through the for loop, the `pixel` variable is set to the current pixel\n",
    "    - the variable could be called `truck`, but we like our variables to make sense"
   ]
  },
  {
   "cell_type": "code",
   "execution_count": 27,
   "id": "e419590a",
   "metadata": {
    "slideshow": {
     "slide_type": "fragment"
    }
   },
   "outputs": [],
   "source": [
    "image = SimpleImage(\"flower.jpeg\")\n",
    "for pixel in image:\n",
    "    pixel.green = 0\n",
    "    pixel.blue = 0\n",
    "red_flower.show()"
   ]
  },
  {
   "cell_type": "markdown",
   "id": "ef243bdd",
   "metadata": {
    "slideshow": {
     "slide_type": "slide"
    }
   },
   "source": [
    "## Looping over the pixels\n",
    "\n",
    "- pixel.green allows us to change the green value of the variable\n",
    "    - the same for pixel.green and pixel.blue"
   ]
  },
  {
   "cell_type": "code",
   "execution_count": 27,
   "id": "36907b58",
   "metadata": {
    "slideshow": {
     "slide_type": "fragment"
    }
   },
   "outputs": [],
   "source": [
    "image = SimpleImage(\"flower.jpeg\")\n",
    "for pixel in image:\n",
    "    pixel.green = 0\n",
    "    pixel.blue = 0\n",
    "red_flower.show()"
   ]
  },
  {
   "cell_type": "markdown",
   "id": "880cb4e4",
   "metadata": {
    "slideshow": {
     "slide_type": "slide"
    }
   },
   "source": [
    "## Play around with the code\n",
    "\n",
    "- what about a green channel?\n",
    "- making all pixels black?"
   ]
  },
  {
   "cell_type": "code",
   "execution_count": 27,
   "id": "def1e1ba",
   "metadata": {
    "slideshow": {
     "slide_type": "fragment"
    }
   },
   "outputs": [],
   "source": [
    "image = SimpleImage(\"flower.jpeg\")\n",
    "for pixel in image:\n",
    "    pixel.green = 0\n",
    "    pixel.blue = 0\n",
    "red_flower.show()"
   ]
  },
  {
   "cell_type": "markdown",
   "id": "8172df9b",
   "metadata": {
    "slideshow": {
     "slide_type": "slide"
    }
   },
   "source": [
    "## Write a function for red channel"
   ]
  },
  {
   "cell_type": "code",
   "execution_count": 29,
   "id": "36aa32eb",
   "metadata": {
    "slideshow": {
     "slide_type": "fragment"
    }
   },
   "outputs": [],
   "source": [
    "def red_channel(filename):\n",
    "    image = SimpleImage(filename)\n",
    "    for pixel in image:\n",
    "        pixel.green = 0\n",
    "        pixel.blue = 0\n",
    "    return image\n",
    "\n",
    "red_flower = red_channel(\"flower.jpeg\")\n",
    "red_flower.show()"
   ]
  },
  {
   "cell_type": "markdown",
   "id": "569ba253",
   "metadata": {
    "slideshow": {
     "slide_type": "slide"
    }
   },
   "source": [
    "![function call](./function-definition.png)"
   ]
  },
  {
   "cell_type": "markdown",
   "id": "e2481648",
   "metadata": {
    "slideshow": {
     "slide_type": "slide"
    }
   },
   "source": [
    "![function call](./function-call.png)"
   ]
  },
  {
   "cell_type": "markdown",
   "id": "0f8e5e88",
   "metadata": {
    "slideshow": {
     "slide_type": "slide"
    }
   },
   "source": [
    "![function call](./function-parameter.png)"
   ]
  },
  {
   "cell_type": "markdown",
   "id": "6ce11bc3",
   "metadata": {
    "slideshow": {
     "slide_type": "slide"
    }
   },
   "source": [
    "![function call](./function-return.png)"
   ]
  },
  {
   "cell_type": "markdown",
   "id": "d38c62a1",
   "metadata": {
    "slideshow": {
     "slide_type": "slide"
    }
   },
   "source": [
    "## How many variables are used in this code?"
   ]
  },
  {
   "cell_type": "code",
   "execution_count": 29,
   "id": "947d7f7c",
   "metadata": {
    "slideshow": {
     "slide_type": "fragment"
    }
   },
   "outputs": [],
   "source": [
    "def red_channel(filename):\n",
    "    image = SimpleImage(filename)\n",
    "    for pixel in image:\n",
    "        pixel.green = 0\n",
    "        pixel.blue = 0\n",
    "    return image\n",
    "\n",
    "red_flower = red_channel(\"flower.jpeg\")\n",
    "red_flower.show()"
   ]
  },
  {
   "cell_type": "markdown",
   "id": "c2579dfb",
   "metadata": {
    "slideshow": {
     "slide_type": "slide"
    }
   },
   "source": [
    "## Darkening an image"
   ]
  },
  {
   "cell_type": "code",
   "execution_count": 36,
   "id": "e47eef5c",
   "metadata": {
    "slideshow": {
     "slide_type": "fragment"
    }
   },
   "outputs": [],
   "source": [
    "def darken(filename):\n",
    "    image = SimpleImage(filename)\n",
    "    for pixel in image:\n",
    "        pixel.red = pixel.red * 0.5\n",
    "        pixel.green = pixel.green * 0.5\n",
    "        pixel.blue = pixel.blue * 0.5\n",
    "    return image\n",
    "\n",
    "darkened = darken(\"flower.jpeg\")\n",
    "darkened.show()\n"
   ]
  },
  {
   "cell_type": "markdown",
   "id": "5b2ad585",
   "metadata": {
    "slideshow": {
     "slide_type": "slide"
    }
   },
   "source": [
    "# for loop using range()"
   ]
  },
  {
   "cell_type": "code",
   "execution_count": 30,
   "id": "f798a235",
   "metadata": {
    "slideshow": {
     "slide_type": "fragment"
    }
   },
   "outputs": [
    {
     "name": "stdout",
     "output_type": "stream",
     "text": [
      "0\n",
      "1\n",
      "2\n",
      "3\n",
      "4\n",
      "5\n",
      "6\n",
      "7\n",
      "8\n",
      "9\n"
     ]
    }
   ],
   "source": [
    "for number in range(10):\n",
    "    print(number)\n",
    "    "
   ]
  },
  {
   "cell_type": "markdown",
   "id": "9d0b3d92",
   "metadata": {
    "slideshow": {
     "slide_type": "slide"
    }
   },
   "source": [
    "# range(n)\n",
    "\n",
    "- generates a sequence of numbers\n",
    "- starts from 0\n",
    "- counts up to and not including n"
   ]
  },
  {
   "cell_type": "markdown",
   "id": "05822c48",
   "metadata": {
    "slideshow": {
     "slide_type": "slide"
    }
   },
   "source": [
    "## Let's loop over the pixels a different way\n",
    "\n",
    "- nested for loops!\n",
    "- y = 0, then x = 0, 1, 2, 3, 4\n",
    "- y = 1, then x = 0, 1, 2, 3, 4"
   ]
  },
  {
   "cell_type": "code",
   "execution_count": 35,
   "id": "f37515d1",
   "metadata": {
    "slideshow": {
     "slide_type": "fragment"
    }
   },
   "outputs": [
    {
     "name": "stdout",
     "output_type": "stream",
     "text": [
      "0 0\n",
      "1 0\n",
      "2 0\n",
      "3 0\n",
      "4 0\n",
      "0 1\n",
      "1 1\n",
      "2 1\n",
      "3 1\n",
      "4 1\n",
      "0 2\n",
      "1 2\n",
      "2 2\n",
      "3 2\n",
      "4 2\n",
      "0 3\n",
      "1 3\n",
      "2 3\n",
      "3 3\n",
      "4 3\n",
      "0 4\n",
      "1 4\n",
      "2 4\n",
      "3 4\n",
      "4 4\n",
      "0 5\n",
      "1 5\n",
      "2 5\n",
      "3 5\n",
      "4 5\n",
      "0 6\n",
      "1 6\n",
      "2 6\n",
      "3 6\n",
      "4 6\n",
      "0 7\n",
      "1 7\n",
      "2 7\n",
      "3 7\n",
      "4 7\n",
      "0 8\n",
      "1 8\n",
      "2 8\n",
      "3 8\n",
      "4 8\n",
      "0 9\n",
      "1 9\n",
      "2 9\n",
      "3 9\n",
      "4 9\n"
     ]
    }
   ],
   "source": [
    "for y in range(10):\n",
    "    for x in range(5):\n",
    "        print(x,y)\n"
   ]
  },
  {
   "cell_type": "markdown",
   "id": "654389b6",
   "metadata": {
    "slideshow": {
     "slide_type": "slide"
    }
   },
   "source": [
    "## New image functions\n",
    "\n",
    "- `image.height`: height of the image in pixels\n",
    "- `image.width`: width of the image in pixels\n",
    "- `image.get_pixel(x,y)`: get the pixel at location (x,y)"
   ]
  },
  {
   "cell_type": "code",
   "execution_count": 39,
   "id": "42f19efe",
   "metadata": {
    "slideshow": {
     "slide_type": "slide"
    }
   },
   "outputs": [
    {
     "name": "stdout",
     "output_type": "stream",
     "text": [
      "427\n",
      "640\n",
      "Height: 427\n",
      "Width: 640\n"
     ]
    }
   ],
   "source": [
    "image = SimpleImage(\"flower.jpeg\")\n",
    "print(image.height)\n",
    "print(image.width)\n",
    "print(f\"Height: {image.height}\")\n",
    "print(f\"Width: {image.width}\")"
   ]
  },
  {
   "cell_type": "markdown",
   "id": "f23a702c",
   "metadata": {
    "slideshow": {
     "slide_type": "slide"
    }
   },
   "source": [
    "## Let's loop over the pixels a different way\n",
    "\n",
    "- nested for loops!"
   ]
  },
  {
   "cell_type": "code",
   "execution_count": 32,
   "id": "a01cb645",
   "metadata": {
    "slideshow": {
     "slide_type": "fragment"
    }
   },
   "outputs": [],
   "source": [
    "def red_channel(filename):\n",
    "    image = SimpleImage(filename)\n",
    "    for y in range(image.height):\n",
    "        for x in range(image.width):\n",
    "            pixel = image.get_pixel(x,y)\n",
    "            pixel.green = 0\n",
    "            pixel.blue = 0\n",
    "    \n",
    "    return image\n",
    "\n",
    "red_flower = red_channel(\"flower.jpeg\")\n",
    "red_flower.show()"
   ]
  },
  {
   "cell_type": "markdown",
   "id": "e3b90df6",
   "metadata": {
    "slideshow": {
     "slide_type": "slide"
    }
   },
   "source": [
    "# Things to try:\n",
    "\n",
    "- add a print statement inside the nested loops to examine the values of x,y\n",
    "- try range(image.width - 20)\n",
    "- try swapping the for loops so we loop on x first, then y"
   ]
  }
 ],
 "metadata": {
  "celltoolbar": "Slideshow",
  "kernelspec": {
   "display_name": "Python 3 (ipykernel)",
   "language": "python",
   "name": "python3"
  },
  "language_info": {
   "codemirror_mode": {
    "name": "ipython",
    "version": 3
   },
   "file_extension": ".py",
   "mimetype": "text/x-python",
   "name": "python",
   "nbconvert_exporter": "python",
   "pygments_lexer": "ipython3",
   "version": "3.9.7"
  }
 },
 "nbformat": 4,
 "nbformat_minor": 5
}
