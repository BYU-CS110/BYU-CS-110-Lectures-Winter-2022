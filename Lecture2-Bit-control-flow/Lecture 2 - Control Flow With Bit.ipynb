{
 "cells": [
  {
   "cell_type": "code",
   "execution_count": 4,
   "id": "7a2c8036",
   "metadata": {
    "slideshow": {
     "slide_type": "skip"
    }
   },
   "outputs": [
    {
     "name": "stderr",
     "output_type": "stream",
     "text": [
      "[NbConvertApp] Converting notebook Lecture 2 - Control Flow With Bit.ipynb to html\n",
      "[NbConvertApp] Writing 762422 bytes to Lecture 2 - Control Flow With Bit.html\n"
     ]
    }
   ],
   "source": [
    "%%bash\n",
    "NAME=\"Lecture 2 - Control Flow With Bit\"\n",
    "ORDER='2'\n",
    "TITLE=$NAME\n",
    "MDXFILE=\"lecture$ORDER.mdx\"\n",
    "\n",
    "PAGES='../../website/src/pages'\n",
    "FOLDER='lectures'\n",
    "\n",
    "# The following is template code and can be reused across notebooks\n",
    "\n",
    "jupyter nbconvert \"$NAME.ipynb\" \\\n",
    "  --Exporter.preprocessors jupybeans.RemoveSkip \\\n",
    "  --to html \\\n",
    "&& cp \"$NAME.html\" $PAGES/$FOLDER/ \\\n",
    "&& cat > $PAGES/$FOLDER/$MDXFILE << EOF \n",
    "---\n",
    "order: $ORDER\n",
    "title: $TITLE\n",
    "---\n",
    "import stuff from './$NAME.html'\n",
    "import InlineHtml from '../../components/helpers'\n",
    "\n",
    "<InlineHtml src={stuff} />\n",
    "\n",
    "EOF"
   ]
  },
  {
   "cell_type": "markdown",
   "id": "81070081",
   "metadata": {
    "slideshow": {
     "slide_type": "slide"
    }
   },
   "source": [
    "## Control Flow With Bit"
   ]
  },
  {
   "cell_type": "markdown",
   "id": "e6923100",
   "metadata": {
    "slideshow": {
     "slide_type": "skip"
    }
   },
   "source": [
    "## Today's big ideas\n",
    "- loops\n",
    "- `if`\n",
    "- `==`\n",
    "- make a drawing\n",
    "- `left_clear()`\n",
    "- puzzles"
   ]
  },
  {
   "cell_type": "markdown",
   "id": "ba808cba",
   "metadata": {
    "slideshow": {
     "slide_type": "slide"
    }
   },
   "source": [
    "## Legos and Language\n",
    "\n",
    "When you're building with Legos, each individual brick is not terribly useful on its own, but once we have enough bricks of different types, we can build some pretty cool stuff. \n",
    "\n",
    "When you're learning a new language, sometimes you run into situations where you struggle to express yourself because you don't know enough words. But as your vocabulary and mastery of the grammar grow, your ability to express yourself becomes more fluent and comfortable.\n",
    "\n",
    "Today we'll be presenting more Lego bricks and vocabulary. Each idea by itself is simple, but as you learn to put them together, you'll do some pretty cool stuff."
   ]
  },
  {
   "cell_type": "markdown",
   "id": "d27d4fc2",
   "metadata": {
    "slideshow": {
     "slide_type": "slide"
    }
   },
   "source": [
    "## Do you remember...Go Green"
   ]
  },
  {
   "cell_type": "code",
   "execution_count": 4,
   "id": "e5dcd699",
   "metadata": {
    "slideshow": {
     "slide_type": "fragment"
    }
   },
   "outputs": [
    {
     "data": {
      "image/png": "[encoded data removed]",
      "text/plain": [
       "<Figure size 432x288 with 1 Axes>"
      ]
     },
     "metadata": {
      "needs_background": "light"
     },
     "output_type": "display_data"
    }
   ],
   "source": [
    "from byubit import Bit\n",
    "\n",
    "bit = Bit.new_world(10,3)\n",
    "while bit.front_clear():\n",
    "    bit.move()\n",
    "    bit.paint(\"green\")\n",
    "bit.draw()"
   ]
  },
  {
   "cell_type": "markdown",
   "id": "290f15ca",
   "metadata": {
    "slideshow": {
     "slide_type": "slide"
    }
   },
   "source": [
    "The `while` body looks like this:\n",
    "\n",
    "```python\n",
    "bit.move()\n",
    "bit.paint(\"green\")\n",
    "```\n",
    "\n",
    "That works fine. It paints all the squares but the first one."
   ]
  },
  {
   "cell_type": "markdown",
   "id": "1989127c",
   "metadata": {
    "slideshow": {
     "slide_type": "slide"
    }
   },
   "source": [
    "We could also have written it this way:\n",
    "\n",
    "```python\n",
    "bit.paint(\"green\")\n",
    "bit.move()\n",
    "```"
   ]
  },
  {
   "cell_type": "code",
   "execution_count": 3,
   "id": "1fb5d966",
   "metadata": {
    "slideshow": {
     "slide_type": "fragment"
    }
   },
   "outputs": [
    {
     "data": {
      "image/png": "[encoded data removed]",
      "text/plain": [
       "<Figure size 432x288 with 1 Axes>"
      ]
     },
     "metadata": {
      "needs_background": "light"
     },
     "output_type": "display_data"
    }
   ],
   "source": [
    "bit = Bit.new_world(10,3)\n",
    "while bit.front_clear():\n",
    "    bit.paint(\"green\")\n",
    "    bit.move()\n",
    "bit.draw()"
   ]
  },
  {
   "cell_type": "markdown",
   "id": "dbeb5971",
   "metadata": {
    "slideshow": {
     "slide_type": "fragment"
    }
   },
   "source": [
    "That works fine too!\n",
    "\n",
    "It paints all the squares except the last one."
   ]
  },
  {
   "cell_type": "markdown",
   "id": "f0e8d376",
   "metadata": {
    "slideshow": {
     "slide_type": "slide"
    }
   },
   "source": [
    "Loops will very often miss one square - you can decide whether you want to miss the first square or the last square.\n",
    "\n",
    "This is OK. Don't go crazy trying to get all the squares in one loop. Just add a line before or after the loop."
   ]
  },
  {
   "cell_type": "code",
   "execution_count": 4,
   "id": "10e54e74",
   "metadata": {
    "slideshow": {
     "slide_type": "fragment"
    }
   },
   "outputs": [
    {
     "data": {
      "image/png": "[encoded data removed]",
      "text/plain": [
       "<Figure size 432x288 with 1 Axes>"
      ]
     },
     "metadata": {
      "needs_background": "light"
     },
     "output_type": "display_data"
    }
   ],
   "source": [
    "bit = Bit.new_world(10,3)\n",
    "\n",
    "# Paint the current square\n",
    "bit.paint(\"green\")\n",
    "\n",
    "# Paint the rest\n",
    "while bit.front_clear():\n",
    "    bit.move()\n",
    "    bit.paint(\"green\")\n",
    "bit.draw()"
   ]
  },
  {
   "cell_type": "markdown",
   "id": "d756bab9",
   "metadata": {
    "slideshow": {
     "slide_type": "slide"
    }
   },
   "source": [
    "## Looping Intuition\n",
    "\n",
    "The decision and the action.\n",
    "\n",
    "Does this make sense to everyone?"
   ]
  },
  {
   "cell_type": "markdown",
   "id": "f5e75846",
   "metadata": {
    "slideshow": {
     "slide_type": "slide"
    }
   },
   "source": [
    "## Lines *before*, *in*, and *after* a loop\n",
    "\n",
    "```python\n",
    "bit = Bit.new_world(10,3)\n",
    "\n",
    "# Paint the current square\n",
    "bit.paint(\"green\")\n",
    "\n",
    "# Paint the rest\n",
    "while bit.front_clear():\n",
    "    bit.move()\n",
    "    bit.paint(\"green\")\n",
    "bit.draw()\n",
    "```\n",
    "\n",
    "There are lines before the loop. They run once.\n",
    "\n",
    "The lines in the loop run many (or no) times. It's flexible.\n",
    "\n",
    "The lines after the loop run once. \n",
    "\n",
    "How does the computer know which lines belong to the loop and which lines don't?"
   ]
  },
  {
   "cell_type": "code",
   "execution_count": 5,
   "id": "dc36b2e1",
   "metadata": {
    "slideshow": {
     "slide_type": "slide"
    }
   },
   "outputs": [
    {
     "data": {
      "image/png": "[encoded data removed]",
      "text/plain": [
       "<Figure size 432x288 with 1 Axes>"
      ]
     },
     "metadata": {
      "needs_background": "light"
     },
     "output_type": "display_data"
    }
   ],
   "source": [
    "bit = Bit.new_world(10,3)\n",
    "\n",
    "# Paint the current square\n",
    "bit.paint(\"green\")\n",
    "\n",
    "# Paint the rest\n",
    "while bit.front_clear():\n",
    "    bit.move()\n",
    "    bit.paint(\"green\")\n",
    "\n",
    "bit.paint(\"red\")\n",
    "bit.draw()"
   ]
  },
  {
   "cell_type": "markdown",
   "id": "17eeefe7",
   "metadata": {
    "slideshow": {
     "slide_type": "fragment"
    }
   },
   "source": [
    "What happens if we indent `bit.paint(\"red\")`?"
   ]
  },
  {
   "cell_type": "markdown",
   "id": "9b4336f0",
   "metadata": {
    "slideshow": {
     "slide_type": "slide"
    }
   },
   "source": [
    "## No Go"
   ]
  },
  {
   "cell_type": "code",
   "execution_count": 64,
   "id": "5b35ee15",
   "metadata": {
    "slideshow": {
     "slide_type": "fragment"
    }
   },
   "outputs": [
    {
     "data": {
      "image/png": "[encoded data removed]",
      "text/plain": [
       "<Figure size 432x288 with 1 Axes>"
      ]
     },
     "metadata": {
      "needs_background": "light"
     },
     "output_type": "display_data"
    }
   ],
   "source": [
    "bit = Bit.new_world(1,1)  # Not a very big space to live in...\n",
    "while bit.front_clear():\n",
    "    bit.move()\n",
    "    bit.paint(\"green\")\n",
    "\n",
    "bit.draw()"
   ]
  },
  {
   "cell_type": "markdown",
   "id": "f8352924",
   "metadata": {
    "slideshow": {
     "slide_type": "fragment"
    }
   },
   "source": [
    "How many times does the loop body run?"
   ]
  },
  {
   "cell_type": "code",
   "execution_count": 7,
   "id": "12185d92",
   "metadata": {
    "slideshow": {
     "slide_type": "slide"
    }
   },
   "outputs": [
    {
     "data": {
      "image/png": "[encoded data removed]",
      "text/plain": [
       "<Figure size 432x288 with 1 Axes>"
      ]
     },
     "metadata": {
      "needs_background": "light"
     },
     "output_type": "display_data"
    }
   ],
   "source": [
    "bit = Bit.new_world(5,3)\n",
    "while bit.front_clear():\n",
    "    bit.move()\n",
    "    bit.paint(\"green\")\n",
    "\n",
    "bit.draw()"
   ]
  },
  {
   "cell_type": "markdown",
   "id": "f2bfbd0e",
   "metadata": {
    "slideshow": {
     "slide_type": "fragment"
    }
   },
   "source": [
    "How manuy times does the loop body run?"
   ]
  },
  {
   "cell_type": "markdown",
   "id": "1ed2ac69",
   "metadata": {
    "slideshow": {
     "slide_type": "slide"
    }
   },
   "source": [
    "Same loop code, different scenarios -> **Generality**"
   ]
  },
  {
   "cell_type": "markdown",
   "id": "6a996bd4",
   "metadata": {
    "slideshow": {
     "slide_type": "slide"
    }
   },
   "source": [
    "## Generality\n",
    "\n",
    "When you pull into the gas station, you have to find the pump specific for your car's make and model. \n",
    "\n",
    "<div class='big centered'> 🚗 </div>\n",
    "\n",
    "When you bake a pie, you have to put the pie in the pie-baking oven, not the break-baking oven. \n",
    "\n",
    "<div class='big centered'> 🥧 </div>\n"
   ]
  },
  {
   "cell_type": "markdown",
   "id": "a751c961",
   "metadata": {
    "slideshow": {
     "slide_type": "fragment"
    }
   },
   "source": [
    "NO! "
   ]
  },
  {
   "cell_type": "markdown",
   "id": "36e8b5fe",
   "metadata": {
    "slideshow": {
     "slide_type": "slide"
    }
   },
   "source": [
    "**Generality** is the concept that I can build one thing that will work for many use-cases. "
   ]
  },
  {
   "cell_type": "markdown",
   "id": "16162820",
   "metadata": {
    "slideshow": {
     "slide_type": "-"
    }
   },
   "source": [
    "It doesn't have to work for ALL use-cases, but it probably isn't useful if it only works in one case."
   ]
  },
  {
   "cell_type": "markdown",
   "id": "d7a8531c",
   "metadata": {
    "slideshow": {
     "slide_type": "-"
    }
   },
   "source": [
    "Usually, we like generalized code. One script works for many scenarios. "
   ]
  },
  {
   "cell_type": "markdown",
   "id": "eef9cf7c",
   "metadata": {
    "slideshow": {
     "slide_type": "-"
    }
   },
   "source": [
    "When you try to make your code cover too many scenarios...that's silly. "
   ]
  },
  {
   "cell_type": "markdown",
   "id": "a95e1ba9",
   "metadata": {
    "slideshow": {
     "slide_type": "-"
    }
   },
   "source": [
    "Usually you'll have a good feel for the kinds of cases you are trying to solve at the same time, and which cases need a new solution. Like gas pump vs EV charging station."
   ]
  },
  {
   "cell_type": "markdown",
   "id": "2f517dff",
   "metadata": {
    "slideshow": {
     "slide_type": "slide"
    }
   },
   "source": [
    "## `while True`\n",
    "\n",
    "Recall that a `while` loop needs an expression that evaluates to `True` or `False`.\n",
    "\n",
    "If the condition is `True`, then the loop body will run.\n",
    "\n",
    "If the condition is `False`, the loop body won't run.\n",
    "\n",
    "After each execution of the loop, we test the condition again. \n",
    "\n",
    "What happens if the condition **never** changes?"
   ]
  },
  {
   "cell_type": "markdown",
   "id": "6bac9f2c",
   "metadata": {
    "slideshow": {
     "slide_type": "fragment"
    }
   },
   "source": [
    "Is that good or bad?"
   ]
  },
  {
   "cell_type": "code",
   "execution_count": 65,
   "id": "b4fbabeb",
   "metadata": {
    "slideshow": {
     "slide_type": "slide"
    }
   },
   "outputs": [
    {
     "data": {
      "image/png": "[encoded data removed]",
      "text/plain": [
       "<Figure size 432x288 with 1 Axes>"
      ]
     },
     "metadata": {
      "needs_background": "light"
     },
     "output_type": "display_data"
    },
    {
     "data": {
      "image/png": "[encoded data removed]",
      "text/plain": [
       "<Figure size 432x288 with 1 Axes>"
      ]
     },
     "metadata": {
      "needs_background": "light"
     },
     "output_type": "display_data"
    },
    {
     "data": {
      "image/png": "[encoded data removed]",
      "text/plain": [
       "<Figure size 432x288 with 1 Axes>"
      ]
     },
     "metadata": {
      "needs_background": "light"
     },
     "output_type": "display_data"
    },
    {
     "ename": "MoveOutOfBoundsException",
     "evalue": "Bit tried to move to [3 0], but that is out of bounds",
     "output_type": "error",
     "traceback": [
      "\u001b[0;31m---------------------------------------------------------------------------\u001b[0m",
      "\u001b[0;31mMoveOutOfBoundsException\u001b[0m                  Traceback (most recent call last)",
      "\u001b[0;32m/tmp/ipykernel_849/3921399024.py\u001b[0m in \u001b[0;36m<module>\u001b[0;34m\u001b[0m\n\u001b[1;32m      2\u001b[0m \u001b[0;32mwhile\u001b[0m \u001b[0;32mTrue\u001b[0m\u001b[0;34m:\u001b[0m\u001b[0;34m\u001b[0m\u001b[0;34m\u001b[0m\u001b[0m\n\u001b[1;32m      3\u001b[0m     \u001b[0mbit\u001b[0m\u001b[0;34m.\u001b[0m\u001b[0mdraw\u001b[0m\u001b[0;34m(\u001b[0m\u001b[0;34m)\u001b[0m\u001b[0;34m\u001b[0m\u001b[0;34m\u001b[0m\u001b[0m\n\u001b[0;32m----> 4\u001b[0;31m     \u001b[0mbit\u001b[0m\u001b[0;34m.\u001b[0m\u001b[0mmove\u001b[0m\u001b[0;34m(\u001b[0m\u001b[0;34m)\u001b[0m\u001b[0;34m\u001b[0m\u001b[0;34m\u001b[0m\u001b[0m\n\u001b[0m\u001b[1;32m      5\u001b[0m     \u001b[0mbit\u001b[0m\u001b[0;34m.\u001b[0m\u001b[0mpaint\u001b[0m\u001b[0;34m(\u001b[0m\u001b[0;34m\"green\"\u001b[0m\u001b[0;34m)\u001b[0m\u001b[0;34m\u001b[0m\u001b[0;34m\u001b[0m\u001b[0m\n\u001b[1;32m      6\u001b[0m \u001b[0mbit\u001b[0m\u001b[0;34m.\u001b[0m\u001b[0mdraw\u001b[0m\u001b[0;34m(\u001b[0m\u001b[0;34m)\u001b[0m\u001b[0;34m\u001b[0m\u001b[0;34m\u001b[0m\u001b[0m\n",
      "\u001b[0;32m/data/teach/cs110/lectures/Lecture2-Bit-control-flow/byubit.py\u001b[0m in \u001b[0;36mmove\u001b[0;34m(self)\u001b[0m\n\u001b[1;32m    178\u001b[0m         \u001b[0mnext_pos\u001b[0m \u001b[0;34m=\u001b[0m \u001b[0mself\u001b[0m\u001b[0;34m.\u001b[0m\u001b[0m_get_next_pos\u001b[0m\u001b[0;34m(\u001b[0m\u001b[0;34m)\u001b[0m\u001b[0;34m\u001b[0m\u001b[0;34m\u001b[0m\u001b[0m\n\u001b[1;32m    179\u001b[0m         \u001b[0;32mif\u001b[0m \u001b[0;32mnot\u001b[0m \u001b[0mself\u001b[0m\u001b[0;34m.\u001b[0m\u001b[0m_pos_in_bounds\u001b[0m\u001b[0;34m(\u001b[0m\u001b[0mnext_pos\u001b[0m\u001b[0;34m)\u001b[0m\u001b[0;34m:\u001b[0m\u001b[0;34m\u001b[0m\u001b[0;34m\u001b[0m\u001b[0m\n\u001b[0;32m--> 180\u001b[0;31m             \u001b[0;32mraise\u001b[0m \u001b[0mMoveOutOfBoundsException\u001b[0m\u001b[0;34m(\u001b[0m\u001b[0;34mf\"Bit tried to move to {next_pos}, but that is out of bounds\"\u001b[0m\u001b[0;34m)\u001b[0m\u001b[0;34m\u001b[0m\u001b[0;34m\u001b[0m\u001b[0m\n\u001b[0m\u001b[1;32m    181\u001b[0m         \u001b[0;32melif\u001b[0m \u001b[0mself\u001b[0m\u001b[0;34m.\u001b[0m\u001b[0m_get_color_at\u001b[0m\u001b[0;34m(\u001b[0m\u001b[0mnext_pos\u001b[0m\u001b[0;34m)\u001b[0m \u001b[0;34m==\u001b[0m \u001b[0mBLACK\u001b[0m\u001b[0;34m:\u001b[0m\u001b[0;34m\u001b[0m\u001b[0;34m\u001b[0m\u001b[0m\n\u001b[1;32m    182\u001b[0m             \u001b[0;32mraise\u001b[0m \u001b[0mMoveBlockedByBlackException\u001b[0m\u001b[0;34m(\u001b[0m\u001b[0mnext_pos\u001b[0m\u001b[0;34m)\u001b[0m\u001b[0;34m\u001b[0m\u001b[0;34m\u001b[0m\u001b[0m\n",
      "\u001b[0;31mMoveOutOfBoundsException\u001b[0m: Bit tried to move to [3 0], but that is out of bounds"
     ]
    }
   ],
   "source": [
    "bit = Bit.new_world(3,3)\n",
    "while True:\n",
    "    bit.draw()\n",
    "    bit.move()\n",
    "    bit.paint(\"green\")\n",
    "bit.draw()"
   ]
  },
  {
   "cell_type": "markdown",
   "id": "7b3c3c81",
   "metadata": {
    "slideshow": {
     "slide_type": "slide"
    }
   },
   "source": [
    "## Spin!"
   ]
  },
  {
   "cell_type": "code",
   "execution_count": 2,
   "id": "29a2f083",
   "metadata": {
    "slideshow": {
     "slide_type": "fragment"
    }
   },
   "outputs": [
    {
     "ename": "Exception",
     "evalue": "Bit has done too many things. Is he stuck in an infinite loop?",
     "output_type": "error",
     "traceback": [
      "\u001b[0;31m---------------------------------------------------------------------------\u001b[0m",
      "\u001b[0;31mException\u001b[0m                                 Traceback (most recent call last)",
      "\u001b[0;32m/tmp/ipykernel_849/2297832775.py\u001b[0m in \u001b[0;36m<module>\u001b[0;34m\u001b[0m\n\u001b[1;32m      1\u001b[0m \u001b[0mbit\u001b[0m \u001b[0;34m=\u001b[0m \u001b[0mBit\u001b[0m\u001b[0;34m.\u001b[0m\u001b[0mnew_world\u001b[0m\u001b[0;34m(\u001b[0m\u001b[0;36m3\u001b[0m\u001b[0;34m,\u001b[0m\u001b[0;36m3\u001b[0m\u001b[0;34m)\u001b[0m\u001b[0;34m\u001b[0m\u001b[0;34m\u001b[0m\u001b[0m\n\u001b[1;32m      2\u001b[0m \u001b[0;32mwhile\u001b[0m \u001b[0;32mTrue\u001b[0m\u001b[0;34m:\u001b[0m\u001b[0;34m\u001b[0m\u001b[0;34m\u001b[0m\u001b[0m\n\u001b[0;32m----> 3\u001b[0;31m     \u001b[0mbit\u001b[0m\u001b[0;34m.\u001b[0m\u001b[0mleft\u001b[0m\u001b[0;34m(\u001b[0m\u001b[0;34m)\u001b[0m\u001b[0;34m\u001b[0m\u001b[0;34m\u001b[0m\u001b[0m\n\u001b[0m",
      "\u001b[0;32m/data/teach/cs110/lectures/Lecture2-Bit-control-flow/byubit.py\u001b[0m in \u001b[0;36mleft\u001b[0;34m(self)\u001b[0m\n\u001b[1;32m    188\u001b[0m         \u001b[0;34m\"\"\"Turn the bit to the left\"\"\"\u001b[0m\u001b[0;34m\u001b[0m\u001b[0;34m\u001b[0m\u001b[0m\n\u001b[1;32m    189\u001b[0m         \u001b[0mself\u001b[0m\u001b[0;34m.\u001b[0m\u001b[0morientation\u001b[0m \u001b[0;34m=\u001b[0m \u001b[0mself\u001b[0m\u001b[0;34m.\u001b[0m\u001b[0m_next_orientation\u001b[0m\u001b[0;34m(\u001b[0m\u001b[0;36m1\u001b[0m\u001b[0;34m)\u001b[0m\u001b[0;34m\u001b[0m\u001b[0;34m\u001b[0m\u001b[0m\n\u001b[0;32m--> 190\u001b[0;31m         \u001b[0mself\u001b[0m\u001b[0;34m.\u001b[0m\u001b[0m_step\u001b[0m\u001b[0;34m(\u001b[0m\u001b[0;34m)\u001b[0m\u001b[0;34m\u001b[0m\u001b[0;34m\u001b[0m\u001b[0m\n\u001b[0m\u001b[1;32m    191\u001b[0m \u001b[0;34m\u001b[0m\u001b[0m\n\u001b[1;32m    192\u001b[0m     \u001b[0;32mdef\u001b[0m \u001b[0mright\u001b[0m\u001b[0;34m(\u001b[0m\u001b[0mself\u001b[0m\u001b[0;34m)\u001b[0m\u001b[0;34m:\u001b[0m\u001b[0;34m\u001b[0m\u001b[0;34m\u001b[0m\u001b[0m\n",
      "\u001b[0;32m/data/teach/cs110/lectures/Lecture2-Bit-control-flow/byubit.py\u001b[0m in \u001b[0;36m_step\u001b[0;34m(self)\u001b[0m\n\u001b[1;32m    116\u001b[0m         \u001b[0mself\u001b[0m\u001b[0;34m.\u001b[0m\u001b[0m_step_count\u001b[0m \u001b[0;34m+=\u001b[0m \u001b[0;36m1\u001b[0m\u001b[0;34m\u001b[0m\u001b[0;34m\u001b[0m\u001b[0m\n\u001b[1;32m    117\u001b[0m         \u001b[0;32mif\u001b[0m \u001b[0mself\u001b[0m\u001b[0;34m.\u001b[0m\u001b[0m_step_count\u001b[0m \u001b[0;34m>\u001b[0m \u001b[0mMAX_STEP_COUNT\u001b[0m\u001b[0;34m:\u001b[0m\u001b[0;34m\u001b[0m\u001b[0;34m\u001b[0m\u001b[0m\n\u001b[0;32m--> 118\u001b[0;31m             \u001b[0;32mraise\u001b[0m \u001b[0mException\u001b[0m\u001b[0;34m(\u001b[0m\u001b[0;34m\"Bit has done too many things. Is he stuck in an infinite loop?\"\u001b[0m\u001b[0;34m)\u001b[0m\u001b[0;34m\u001b[0m\u001b[0;34m\u001b[0m\u001b[0m\n\u001b[0m\u001b[1;32m    119\u001b[0m \u001b[0;34m\u001b[0m\u001b[0m\n\u001b[1;32m    120\u001b[0m     \u001b[0;32mdef\u001b[0m \u001b[0msave\u001b[0m\u001b[0;34m(\u001b[0m\u001b[0mself\u001b[0m\u001b[0;34m,\u001b[0m \u001b[0mfilename\u001b[0m\u001b[0;34m:\u001b[0m \u001b[0mstr\u001b[0m\u001b[0;34m)\u001b[0m\u001b[0;34m:\u001b[0m\u001b[0;34m\u001b[0m\u001b[0;34m\u001b[0m\u001b[0m\n",
      "\u001b[0;31mException\u001b[0m: Bit has done too many things. Is he stuck in an infinite loop?"
     ]
    }
   ],
   "source": [
    "bit = Bit.new_world(3,3)\n",
    "while True:\n",
    "    bit.left()"
   ]
  },
  {
   "cell_type": "markdown",
   "id": "5c80c860",
   "metadata": {
    "slideshow": {
     "slide_type": "slide"
    }
   },
   "source": [
    "## A Note on Calling Functions\n",
    "\n",
    "Python requires `()` for a function call to happen. But it is technically valid syntax to leave the `()` off, but the meaning becomes different.\n",
    "\n",
    "### `bit.move()` \n",
    "*You*: \"Hey computer, move the `bit`.\" \n",
    "\n",
    "*Computer*: \"OK\"\n",
    "\n",
    "### `bit.move` \n",
    "*You*: \"Hey computer, did you know `bit` has an action called `move`?\" \n",
    "\n",
    "*Computer*: \"Yes. I was aware of that.\""
   ]
  },
  {
   "cell_type": "code",
   "execution_count": 66,
   "id": "5414d918",
   "metadata": {
    "slideshow": {
     "slide_type": "slide"
    }
   },
   "outputs": [
    {
     "ename": "Exception",
     "evalue": "Bit has done too many things. Is he stuck in an infinite loop?",
     "output_type": "error",
     "traceback": [
      "\u001b[0;31m---------------------------------------------------------------------------\u001b[0m",
      "\u001b[0;31mException\u001b[0m                                 Traceback (most recent call last)",
      "\u001b[0;32m/tmp/ipykernel_849/3648138265.py\u001b[0m in \u001b[0;36m<module>\u001b[0;34m\u001b[0m\n\u001b[1;32m      1\u001b[0m \u001b[0mbit\u001b[0m \u001b[0;34m=\u001b[0m \u001b[0mBit\u001b[0m\u001b[0;34m.\u001b[0m\u001b[0mnew_world\u001b[0m\u001b[0;34m(\u001b[0m\u001b[0;36m5\u001b[0m\u001b[0;34m,\u001b[0m\u001b[0;36m3\u001b[0m\u001b[0;34m)\u001b[0m\u001b[0;34m\u001b[0m\u001b[0;34m\u001b[0m\u001b[0m\n\u001b[0;32m----> 2\u001b[0;31m \u001b[0;32mwhile\u001b[0m \u001b[0mbit\u001b[0m\u001b[0;34m.\u001b[0m\u001b[0mfront_clear\u001b[0m\u001b[0;34m(\u001b[0m\u001b[0;34m)\u001b[0m\u001b[0;34m:\u001b[0m\u001b[0;34m\u001b[0m\u001b[0;34m\u001b[0m\u001b[0m\n\u001b[0m\u001b[1;32m      3\u001b[0m         \u001b[0mbit\u001b[0m\u001b[0;34m.\u001b[0m\u001b[0mmove\u001b[0m\u001b[0;34m\u001b[0m\u001b[0;34m\u001b[0m\u001b[0m\n\u001b[1;32m      4\u001b[0m         \u001b[0mbit\u001b[0m\u001b[0;34m.\u001b[0m\u001b[0mpaint\u001b[0m\u001b[0;34m(\u001b[0m\u001b[0;34m'blue'\u001b[0m\u001b[0;34m)\u001b[0m\u001b[0;34m\u001b[0m\u001b[0;34m\u001b[0m\u001b[0m\n",
      "\u001b[0;32m/data/teach/cs110/lectures/Lecture2-Bit-control-flow/byubit.py\u001b[0m in \u001b[0;36mfront_clear\u001b[0;34m(self)\u001b[0m\n\u001b[1;32m    208\u001b[0m         \u001b[0mBlack\u001b[0m \u001b[0msquares\u001b[0m \u001b[0mare\u001b[0m \u001b[0;32mnot\u001b[0m \u001b[0mclear\u001b[0m\u001b[0;34m.\u001b[0m\u001b[0;34m\u001b[0m\u001b[0;34m\u001b[0m\u001b[0m\n\u001b[1;32m    209\u001b[0m         \"\"\"\n\u001b[0;32m--> 210\u001b[0;31m         \u001b[0mself\u001b[0m\u001b[0;34m.\u001b[0m\u001b[0m_step\u001b[0m\u001b[0;34m(\u001b[0m\u001b[0;34m)\u001b[0m\u001b[0;34m\u001b[0m\u001b[0;34m\u001b[0m\u001b[0m\n\u001b[0m\u001b[1;32m    211\u001b[0m         \u001b[0;32mreturn\u001b[0m \u001b[0mself\u001b[0m\u001b[0;34m.\u001b[0m\u001b[0m_space_is_clear\u001b[0m\u001b[0;34m(\u001b[0m\u001b[0mself\u001b[0m\u001b[0;34m.\u001b[0m\u001b[0m_get_next_pos\u001b[0m\u001b[0;34m(\u001b[0m\u001b[0;34m)\u001b[0m\u001b[0;34m)\u001b[0m\u001b[0;34m\u001b[0m\u001b[0;34m\u001b[0m\u001b[0m\n\u001b[1;32m    212\u001b[0m \u001b[0;34m\u001b[0m\u001b[0m\n",
      "\u001b[0;32m/data/teach/cs110/lectures/Lecture2-Bit-control-flow/byubit.py\u001b[0m in \u001b[0;36m_step\u001b[0;34m(self)\u001b[0m\n\u001b[1;32m    116\u001b[0m         \u001b[0mself\u001b[0m\u001b[0;34m.\u001b[0m\u001b[0m_step_count\u001b[0m \u001b[0;34m+=\u001b[0m \u001b[0;36m1\u001b[0m\u001b[0;34m\u001b[0m\u001b[0;34m\u001b[0m\u001b[0m\n\u001b[1;32m    117\u001b[0m         \u001b[0;32mif\u001b[0m \u001b[0mself\u001b[0m\u001b[0;34m.\u001b[0m\u001b[0m_step_count\u001b[0m \u001b[0;34m>\u001b[0m \u001b[0mMAX_STEP_COUNT\u001b[0m\u001b[0;34m:\u001b[0m\u001b[0;34m\u001b[0m\u001b[0;34m\u001b[0m\u001b[0m\n\u001b[0;32m--> 118\u001b[0;31m             \u001b[0;32mraise\u001b[0m \u001b[0mException\u001b[0m\u001b[0;34m(\u001b[0m\u001b[0;34m\"Bit has done too many things. Is he stuck in an infinite loop?\"\u001b[0m\u001b[0;34m)\u001b[0m\u001b[0;34m\u001b[0m\u001b[0;34m\u001b[0m\u001b[0m\n\u001b[0m\u001b[1;32m    119\u001b[0m \u001b[0;34m\u001b[0m\u001b[0m\n\u001b[1;32m    120\u001b[0m     \u001b[0;32mdef\u001b[0m \u001b[0msave\u001b[0m\u001b[0;34m(\u001b[0m\u001b[0mself\u001b[0m\u001b[0;34m,\u001b[0m \u001b[0mfilename\u001b[0m\u001b[0;34m:\u001b[0m \u001b[0mstr\u001b[0m\u001b[0;34m)\u001b[0m\u001b[0;34m:\u001b[0m\u001b[0;34m\u001b[0m\u001b[0;34m\u001b[0m\u001b[0m\n",
      "\u001b[0;31mException\u001b[0m: Bit has done too many things. Is he stuck in an infinite loop?"
     ]
    }
   ],
   "source": [
    "bit = Bit.new_world(5,3)\n",
    "while bit.front_clear():\n",
    "        bit.move\n",
    "        bit.paint('blue')"
   ]
  },
  {
   "cell_type": "markdown",
   "id": "7e4d7a23",
   "metadata": {
    "slideshow": {
     "slide_type": "slide"
    }
   },
   "source": [
    "## `if`"
   ]
  },
  {
   "cell_type": "markdown",
   "id": "d9b36cb5",
   "metadata": {
    "slideshow": {
     "slide_type": "-"
    }
   },
   "source": [
    "`while` loops are great when you want to do the same thing repeatedly."
   ]
  },
  {
   "cell_type": "markdown",
   "id": "b460440b",
   "metadata": {
    "slideshow": {
     "slide_type": "-"
    }
   },
   "source": [
    "What if you want to control whether it happens only once?"
   ]
  },
  {
   "cell_type": "markdown",
   "id": "58d05d1a",
   "metadata": {
    "slideshow": {
     "slide_type": "-"
    }
   },
   "source": [
    "What if you want to paint a square green **if** it is blue, but you want to paint it blue if it is something **else**?"
   ]
  },
  {
   "cell_type": "code",
   "execution_count": 7,
   "id": "3e426f09",
   "metadata": {
    "slideshow": {
     "slide_type": "skip"
    }
   },
   "outputs": [
    {
     "name": "stdout",
     "output_type": "stream",
     "text": [
      "Overwriting blue-to-green.txt\n"
     ]
    }
   ],
   "source": [
    "%%file blue-to-green.txt\n",
    "-rb-brb-b-brb\n",
    "0 0\n",
    "0"
   ]
  },
  {
   "cell_type": "code",
   "execution_count": 8,
   "id": "3a29fc43",
   "metadata": {
    "slideshow": {
     "slide_type": "slide"
    }
   },
   "outputs": [
    {
     "data": {
      "image/png": "[encoded data removed]",
      "text/plain": [
       "<Figure size 432x288 with 1 Axes>"
      ]
     },
     "metadata": {
      "needs_background": "light"
     },
     "output_type": "display_data"
    }
   ],
   "source": [
    "bit = Bit.load(\"blue-to-green.txt\")\n",
    "bit.draw()"
   ]
  },
  {
   "cell_type": "code",
   "execution_count": 9,
   "id": "e2084d44",
   "metadata": {
    "slideshow": {
     "slide_type": "slide"
    }
   },
   "outputs": [
    {
     "data": {
      "image/png": "[encoded data removed]",
      "text/plain": [
       "<Figure size 432x288 with 1 Axes>"
      ]
     },
     "metadata": {
      "needs_background": "light"
     },
     "output_type": "display_data"
    },
    {
     "data": {
      "image/png": "[encoded data removed]",
      "text/plain": [
       "<Figure size 432x288 with 1 Axes>"
      ]
     },
     "metadata": {
      "needs_background": "light"
     },
     "output_type": "display_data"
    }
   ],
   "source": [
    "bit = Bit.load(\"blue-to-green.txt\")\n",
    "bit.draw()\n",
    "\n",
    "# Paint green if blue, paint blue for anything else\n",
    "while bit.front_clear():\n",
    "    bit.move()\n",
    "    if bit.get_color() == \"blue\":\n",
    "        bit.paint(\"green\")\n",
    "    else:\n",
    "        bit.paint(\"blue\")\n",
    "bit.draw()"
   ]
  },
  {
   "cell_type": "markdown",
   "id": "def6ef44",
   "metadata": {
    "slideshow": {
     "slide_type": "slide"
    }
   },
   "source": [
    "<div class='big centered'> 👏🏽 </div>"
   ]
  },
  {
   "cell_type": "markdown",
   "id": "2da7956d",
   "metadata": {
    "slideshow": {
     "slide_type": "fragment"
    }
   },
   "source": [
    "That was cool. Let's dig in."
   ]
  },
  {
   "cell_type": "markdown",
   "id": "2fa7c3e1",
   "metadata": {
    "slideshow": {
     "slide_type": "slide"
    }
   },
   "source": [
    "## `if` syntax\n",
    "```\n",
    "if <condition>:\n",
    "    Do this if <condition> is True\n",
    "else:\n",
    "    Do this if <condition> is False\n",
    "```\n",
    "\n",
    "Also valid:\n",
    "```\n",
    "if <condition>:\n",
    "    Do this if <condition> is True\n",
    "```"
   ]
  },
  {
   "cell_type": "markdown",
   "id": "b6d27ddc",
   "metadata": {
    "slideshow": {
     "slide_type": "fragment"
    }
   },
   "source": [
    "Again, indentation matters."
   ]
  },
  {
   "cell_type": "markdown",
   "id": "9415f3fd",
   "metadata": {
    "slideshow": {
     "slide_type": "slide"
    }
   },
   "source": [
    "`bit.get_color()` returns the color of the square `bit` is currently sitting on."
   ]
  },
  {
   "cell_type": "code",
   "execution_count": 15,
   "id": "3905c196",
   "metadata": {
    "slideshow": {
     "slide_type": "fragment"
    }
   },
   "outputs": [
    {
     "name": "stdout",
     "output_type": "stream",
     "text": [
      "None\n",
      "blue\n",
      "None\n"
     ]
    }
   ],
   "source": [
    "bit = bit.new_world(1,1)\n",
    "print(bit.get_color())\n",
    "\n",
    "bit.paint(\"blue\")\n",
    "print(bit.get_color())\n",
    "\n",
    "bit.erase()\n",
    "print(bit.get_color())"
   ]
  },
  {
   "cell_type": "markdown",
   "id": "3f2a03fa",
   "metadata": {
    "slideshow": {
     "slide_type": "fragment"
    }
   },
   "source": [
    "`None` has a special meaning in python. It's a way of saying \"nothing\". You'll see it used more as we go along."
   ]
  },
  {
   "cell_type": "markdown",
   "id": "9cd29e7f",
   "metadata": {
    "slideshow": {
     "slide_type": "slide"
    }
   },
   "source": [
    "## Revisiting expressions"
   ]
  },
  {
   "cell_type": "code",
   "execution_count": 21,
   "id": "69ee29ae",
   "metadata": {
    "slideshow": {
     "slide_type": "fragment"
    }
   },
   "outputs": [
    {
     "name": "stdout",
     "output_type": "stream",
     "text": [
      "2\n"
     ]
    }
   ],
   "source": [
    "print(2)"
   ]
  },
  {
   "cell_type": "code",
   "execution_count": 20,
   "id": "47c8b441",
   "metadata": {
    "slideshow": {
     "slide_type": "fragment"
    }
   },
   "outputs": [
    {
     "name": "stdout",
     "output_type": "stream",
     "text": [
      "2\n"
     ]
    }
   ],
   "source": [
    "print(1 + 1)"
   ]
  },
  {
   "cell_type": "code",
   "execution_count": 19,
   "id": "79aa640b",
   "metadata": {
    "slideshow": {
     "slide_type": "fragment"
    }
   },
   "outputs": [
    {
     "name": "stdout",
     "output_type": "stream",
     "text": [
      "2\n"
     ]
    }
   ],
   "source": [
    "print(1 + 2 + 3 - 4)"
   ]
  },
  {
   "cell_type": "markdown",
   "id": "1782c0bc",
   "metadata": {
    "slideshow": {
     "slide_type": "slide"
    }
   },
   "source": [
    "In these expressions, I'm essentially telling the computer:\n",
    "\n",
    "\"Take these symbols, do the work they represent, and bring the result back to me.\"\n",
    "\n",
    "```python\n",
    "print(1 + 2 + 3 - 4)\n",
    "```\n",
    "becomes\n",
    "```python\n",
    "print(2)\n",
    "```"
   ]
  },
  {
   "cell_type": "markdown",
   "id": "574c3336",
   "metadata": {
    "slideshow": {
     "slide_type": "slide"
    }
   },
   "source": [
    "In python, the name of the function (e.g. `bit.get_color`) represents some series of work, just like `+` represents the work of addition.\n",
    "\n",
    "When you call a function (e.g. `bit.get_color()`), you're telling the computer:\n",
    "\n",
    "\"Do the work that `bit.get_color` represents, then bring the result back to me.\" "
   ]
  },
  {
   "cell_type": "markdown",
   "id": "6de3f83d",
   "metadata": {
    "slideshow": {
     "slide_type": "slide"
    }
   },
   "source": [
    "When a function has nothing to return, it returns `None`. "
   ]
  },
  {
   "cell_type": "code",
   "execution_count": 23,
   "id": "d04bc2b3",
   "metadata": {
    "slideshow": {
     "slide_type": "fragment"
    }
   },
   "outputs": [
    {
     "name": "stdout",
     "output_type": "stream",
     "text": [
      "None\n"
     ]
    }
   ],
   "source": [
    "print(bit.left())"
   ]
  },
  {
   "cell_type": "markdown",
   "id": "cfa7084a",
   "metadata": {
    "slideshow": {
     "slide_type": "slide"
    }
   },
   "source": [
    "So, what does `print` return? How could we find out?"
   ]
  },
  {
   "cell_type": "code",
   "execution_count": null,
   "id": "17b03de5",
   "metadata": {},
   "outputs": [],
   "source": []
  },
  {
   "cell_type": "markdown",
   "id": "fe39303e",
   "metadata": {
    "slideshow": {
     "slide_type": "slide"
    }
   },
   "source": [
    "## Comparing values\n",
    "\n",
    "```python\n",
    "while bit.front_clear():\n",
    "    bit.move()\n",
    "    if bit.get_color() == \"blue\":\n",
    "        bit.paint(\"green\")\n",
    "    else:\n",
    "        bit.paint(\"blue\")\n",
    "```\n",
    "\n",
    "When we want to compare two values—i.e. we want to ask \"are these the same?\"—we use `==`.\n",
    "\n",
    "Yes, there are two `=` in `==`. "
   ]
  },
  {
   "cell_type": "code",
   "execution_count": 30,
   "id": "84a8f7b5",
   "metadata": {
    "slideshow": {
     "slide_type": "slide"
    }
   },
   "outputs": [
    {
     "name": "stdout",
     "output_type": "stream",
     "text": [
      "True\n"
     ]
    }
   ],
   "source": [
    "print(\"blue\" == \"blue\")"
   ]
  },
  {
   "cell_type": "code",
   "execution_count": 29,
   "id": "28be6a82",
   "metadata": {
    "slideshow": {
     "slide_type": "fragment"
    }
   },
   "outputs": [
    {
     "name": "stdout",
     "output_type": "stream",
     "text": [
      "False\n"
     ]
    }
   ],
   "source": [
    "print(\"blue\" == \"red\")"
   ]
  },
  {
   "cell_type": "code",
   "execution_count": 26,
   "id": "b05b1b70",
   "metadata": {
    "slideshow": {
     "slide_type": "fragment"
    }
   },
   "outputs": [
    {
     "name": "stdout",
     "output_type": "stream",
     "text": [
      "False\n"
     ]
    }
   ],
   "source": [
    "print(None == \"blue\")"
   ]
  },
  {
   "cell_type": "markdown",
   "id": "ad47c699",
   "metadata": {
    "slideshow": {
     "slide_type": "slide"
    }
   },
   "source": [
    "What about asking \"are these different?\""
   ]
  },
  {
   "cell_type": "markdown",
   "id": "d82a4551",
   "metadata": {
    "slideshow": {
     "slide_type": "fragment"
    }
   },
   "source": [
    "Use `!=`"
   ]
  },
  {
   "cell_type": "code",
   "execution_count": 32,
   "id": "ac1ebd2d",
   "metadata": {
    "slideshow": {
     "slide_type": "fragment"
    }
   },
   "outputs": [
    {
     "name": "stdout",
     "output_type": "stream",
     "text": [
      "True\n"
     ]
    }
   ],
   "source": [
    "print(\"blue\" != \"red\")"
   ]
  },
  {
   "cell_type": "code",
   "execution_count": 31,
   "id": "fc5c8f9c",
   "metadata": {
    "slideshow": {
     "slide_type": "fragment"
    }
   },
   "outputs": [
    {
     "name": "stdout",
     "output_type": "stream",
     "text": [
      "False\n"
     ]
    }
   ],
   "source": [
    "print(\"blue\" != \"blue\")"
   ]
  },
  {
   "cell_type": "markdown",
   "id": "c25f2749",
   "metadata": {
    "slideshow": {
     "slide_type": "slide"
    }
   },
   "source": [
    "## `==` and `!=` in action!\n",
    "\n",
    "```python\n",
    "if bit.get_color() == \"green\":\n",
    "    # Run this if the current color is green\n",
    "...\n",
    "\n",
    "if bit.get_color() == None:\n",
    "    # Run this if there is no color at the current square\n",
    "    \n",
    "...\n",
    "\n",
    "if bit.get_color() != \"red\":\n",
    "    # Run this if the color isn't red (i.e. the color is None, \"green\", or \"blue\")\n",
    "```"
   ]
  },
  {
   "cell_type": "markdown",
   "id": "98657eae",
   "metadata": {
    "slideshow": {
     "slide_type": "slide"
    }
   },
   "source": [
    "## Our Bag of Bricks\n",
    " \n",
    "We now have a growing bag of Lego bricks\n",
    "- `move`, `left`, `right`\n",
    "- `paint`\n",
    "- `front_clear`\n",
    "- `get_color`\n",
    "- `==`\n",
    "- `while`\n",
    "- `if`\n",
    "\n",
    "Let's put these together to build something great."
   ]
  },
  {
   "cell_type": "markdown",
   "id": "d95d64fe",
   "metadata": {
    "slideshow": {
     "slide_type": "slide"
    }
   },
   "source": [
    "## Fix the tree"
   ]
  },
  {
   "cell_type": "code",
   "execution_count": 33,
   "id": "e7a9c548",
   "metadata": {
    "slideshow": {
     "slide_type": "skip"
    }
   },
   "outputs": [
    {
     "name": "stdout",
     "output_type": "stream",
     "text": [
      "Writing tree-before.txt\n"
     ]
    }
   ],
   "source": [
    "%%file tree-before.txt\n",
    "-------------\n",
    "-ggggggggggg-\n",
    "---ggggggg---\n",
    "-------------\n",
    "-------------\n",
    "-------------\n",
    "-------------\n",
    "-------------\n",
    "------r------\n",
    "kkkkkkkkkkkkk\n",
    "0 1\n",
    "0"
   ]
  },
  {
   "cell_type": "code",
   "execution_count": 34,
   "id": "41ac69fd",
   "metadata": {
    "slideshow": {
     "slide_type": "skip"
    }
   },
   "outputs": [
    {
     "name": "stdout",
     "output_type": "stream",
     "text": [
      "Writing tree-after.txt\n"
     ]
    }
   ],
   "source": [
    "%%file tree-after.txt\n",
    "-------------\n",
    "-ggggggggggg-\n",
    "---ggggggg---\n",
    "------r------\n",
    "------r------\n",
    "------r------\n",
    "------r------\n",
    "------r------\n",
    "------r------\n",
    "kkkkkkkkkkkkk\n",
    "6 7\n",
    "1"
   ]
  },
  {
   "cell_type": "code",
   "execution_count": 38,
   "id": "31d7be05",
   "metadata": {
    "slideshow": {
     "slide_type": "fragment"
    }
   },
   "outputs": [
    {
     "data": {
      "image/png": "[encoded data removed]",
      "text/plain": [
       "<Figure size 432x288 with 1 Axes>"
      ]
     },
     "metadata": {
      "needs_background": "light"
     },
     "output_type": "display_data"
    }
   ],
   "source": [
    "bit = Bit.load(\"tree-before.txt\")\n",
    "bit.draw()"
   ]
  },
  {
   "cell_type": "code",
   "execution_count": 36,
   "id": "96bfcd03",
   "metadata": {
    "slideshow": {
     "slide_type": "fragment"
    }
   },
   "outputs": [
    {
     "data": {
      "image/png": "[encoded data removed]",
      "text/plain": [
       "<Figure size 432x288 with 1 Axes>"
      ]
     },
     "metadata": {
      "needs_background": "light"
     },
     "output_type": "display_data"
    }
   ],
   "source": [
    "bit = Bit.load(\"tree-after.txt\")\n",
    "bit.draw()"
   ]
  },
  {
   "cell_type": "markdown",
   "id": "89c8b499",
   "metadata": {
    "slideshow": {
     "slide_type": "slide"
    }
   },
   "source": [
    "When solving problems like these, don't try to do it all in your head! \n",
    "\n",
    "Draw pictures. \n",
    "\n",
    "Write it out. \n",
    "\n",
    "Let's break the process down."
   ]
  },
  {
   "attachments": {
    "image.png": {
     "image/png": "[encoded data removed]"
    }
   },
   "cell_type": "markdown",
   "id": "85d7780d",
   "metadata": {
    "slideshow": {
     "slide_type": "slide"
    }
   },
   "source": [
    "### Start with the beginning\n",
    "![image.png](attachment:image.png)"
   ]
  },
  {
   "attachments": {
    "image.png": {
     "image/png": "[encoded data removed]"
    }
   },
   "cell_type": "markdown",
   "id": "2d54dc1b",
   "metadata": {
    "slideshow": {
     "slide_type": "slide"
    }
   },
   "source": [
    "### What is the next goal—what does that look like?\n",
    "![image.png](attachment:image.png)"
   ]
  },
  {
   "cell_type": "markdown",
   "id": "21dc018e",
   "metadata": {
    "slideshow": {
     "slide_type": "slide"
    }
   },
   "source": [
    "### What code can get Bit from the start to the first goal?"
   ]
  },
  {
   "cell_type": "markdown",
   "id": "2eff3a62",
   "metadata": {
    "slideshow": {
     "slide_type": "fragment"
    }
   },
   "source": [
    "Q: What do we want to do?"
   ]
  },
  {
   "cell_type": "markdown",
   "id": "0fb8ca9a",
   "metadata": {
    "slideshow": {
     "slide_type": "fragment"
    }
   },
   "source": [
    "A: Move Bit from the start to the red square."
   ]
  },
  {
   "cell_type": "markdown",
   "id": "47bb04b4",
   "metadata": {
    "slideshow": {
     "slide_type": "fragment"
    }
   },
   "source": [
    "\"Move Bit until the square is red\""
   ]
  },
  {
   "cell_type": "markdown",
   "id": "49e33b35",
   "metadata": {
    "slideshow": {
     "slide_type": "fragment"
    }
   },
   "source": [
    "OR\n",
    "\n",
    "\"While the current square is not red, move the Bit\""
   ]
  },
  {
   "cell_type": "markdown",
   "id": "06046113",
   "metadata": {
    "slideshow": {
     "slide_type": "fragment"
    }
   },
   "source": [
    "How do we know what color the square is?"
   ]
  },
  {
   "cell_type": "markdown",
   "id": "dc959f78",
   "metadata": {
    "slideshow": {
     "slide_type": "fragment"
    }
   },
   "source": [
    "`bit.get_color()`"
   ]
  },
  {
   "cell_type": "markdown",
   "id": "aaeaea66",
   "metadata": {
    "slideshow": {
     "slide_type": "fragment"
    }
   },
   "source": [
    "How do we know whether that color is not red?"
   ]
  },
  {
   "cell_type": "markdown",
   "id": "30fe8f35",
   "metadata": {
    "slideshow": {
     "slide_type": "fragment"
    }
   },
   "source": [
    "`bit.get_color() != \"red\"`"
   ]
  },
  {
   "cell_type": "markdown",
   "id": "ee3e314d",
   "metadata": {
    "slideshow": {
     "slide_type": "fragment"
    }
   },
   "source": [
    "How do we move the bit while the color is not red?"
   ]
  },
  {
   "cell_type": "markdown",
   "id": "d58010ea",
   "metadata": {
    "slideshow": {
     "slide_type": "fragment"
    }
   },
   "source": [
    "```python\n",
    "while bit.get_color() != \"red\":\n",
    "    bit.move()\n",
    "```"
   ]
  },
  {
   "cell_type": "markdown",
   "id": "044495b7",
   "metadata": {
    "slideshow": {
     "slide_type": "slide"
    }
   },
   "source": [
    "### Let's try what we have so far"
   ]
  },
  {
   "cell_type": "code",
   "execution_count": 69,
   "id": "18dfba06",
   "metadata": {
    "slideshow": {
     "slide_type": "skip"
    }
   },
   "outputs": [
    {
     "data": {
      "image/png": "[encoded data removed]",
      "text/plain": [
       "<Figure size 432x288 with 1 Axes>"
      ]
     },
     "metadata": {
      "needs_background": "light"
     },
     "output_type": "display_data"
    },
    {
     "data": {
      "image/png": "[encoded data removed]",
      "text/plain": [
       "<Figure size 432x288 with 1 Axes>"
      ]
     },
     "metadata": {
      "needs_background": "light"
     },
     "output_type": "display_data"
    }
   ],
   "source": [
    "# Solution - write this live\n",
    "bit = Bit.load(\"tree-before.txt\")\n",
    "bit.draw()\n",
    "while bit.get_color() != \"red\":\n",
    "    bit.move()\n",
    "bit.draw()"
   ]
  },
  {
   "cell_type": "code",
   "execution_count": null,
   "id": "1490d87e",
   "metadata": {},
   "outputs": [],
   "source": [
    "from byubit import Bit\n",
    "bit = Bit.load(\"tree-before.txt\")\n",
    "bit.draw()\n",
    "\n",
    "# Fill it in\n",
    "\n",
    "bit.draw()"
   ]
  },
  {
   "cell_type": "markdown",
   "id": "7f976d73",
   "metadata": {
    "slideshow": {
     "slide_type": "slide"
    }
   },
   "source": [
    "<div class=\"big centered\">GO TEAM! 💪🏻 </div>"
   ]
  },
  {
   "cell_type": "markdown",
   "id": "91999eda",
   "metadata": {
    "slideshow": {
     "slide_type": "slide"
    }
   },
   "source": [
    "### What's the next goal?"
   ]
  },
  {
   "cell_type": "markdown",
   "id": "05d71ed9",
   "metadata": {
    "slideshow": {
     "slide_type": "fragment"
    }
   },
   "source": [
    "We just moved to the red square. \n",
    "\n",
    "Now we want to move to the green square, but paint as we go."
   ]
  },
  {
   "cell_type": "code",
   "execution_count": 42,
   "id": "1c4759ff",
   "metadata": {
    "slideshow": {
     "slide_type": "skip"
    }
   },
   "outputs": [
    {
     "data": {
      "image/png": "[encoded data removed]",
      "text/plain": [
       "<Figure size 432x288 with 1 Axes>"
      ]
     },
     "metadata": {
      "needs_background": "light"
     },
     "output_type": "display_data"
    },
    {
     "data": {
      "image/png": "[encoded data removed]",
      "text/plain": [
       "<Figure size 432x288 with 1 Axes>"
      ]
     },
     "metadata": {
      "needs_background": "light"
     },
     "output_type": "display_data"
    },
    {
     "ename": "MoveOutOfBoundsException",
     "evalue": "Bit tried to move to [ 6 10], but that is out of bounds",
     "output_type": "error",
     "traceback": [
      "\u001b[0;31m---------------------------------------------------------------------------\u001b[0m",
      "\u001b[0;31mMoveOutOfBoundsException\u001b[0m                  Traceback (most recent call last)",
      "\u001b[0;32m/tmp/ipykernel_849/1044091083.py\u001b[0m in \u001b[0;36m<module>\u001b[0;34m\u001b[0m\n\u001b[1;32m     10\u001b[0m \u001b[0mbit\u001b[0m\u001b[0;34m.\u001b[0m\u001b[0mleft\u001b[0m\u001b[0;34m(\u001b[0m\u001b[0;34m)\u001b[0m\u001b[0;34m\u001b[0m\u001b[0;34m\u001b[0m\u001b[0m\n\u001b[1;32m     11\u001b[0m \u001b[0;32mwhile\u001b[0m \u001b[0mbit\u001b[0m\u001b[0;34m.\u001b[0m\u001b[0mget_color\u001b[0m\u001b[0;34m(\u001b[0m\u001b[0;34m)\u001b[0m \u001b[0;34m!=\u001b[0m \u001b[0;34m'green'\u001b[0m\u001b[0;34m:\u001b[0m\u001b[0;34m\u001b[0m\u001b[0;34m\u001b[0m\u001b[0m\n\u001b[0;32m---> 12\u001b[0;31m     \u001b[0mbit\u001b[0m\u001b[0;34m.\u001b[0m\u001b[0mmove\u001b[0m\u001b[0;34m(\u001b[0m\u001b[0;34m)\u001b[0m\u001b[0;34m\u001b[0m\u001b[0;34m\u001b[0m\u001b[0m\n\u001b[0m\u001b[1;32m     13\u001b[0m     \u001b[0mbit\u001b[0m\u001b[0;34m.\u001b[0m\u001b[0mpaint\u001b[0m\u001b[0;34m(\u001b[0m\u001b[0;34m'red'\u001b[0m\u001b[0;34m)\u001b[0m\u001b[0;34m\u001b[0m\u001b[0;34m\u001b[0m\u001b[0m\n\u001b[1;32m     14\u001b[0m \u001b[0mbit\u001b[0m\u001b[0;34m.\u001b[0m\u001b[0mdraw\u001b[0m\u001b[0;34m(\u001b[0m\u001b[0;34m)\u001b[0m\u001b[0;34m\u001b[0m\u001b[0;34m\u001b[0m\u001b[0m\n",
      "\u001b[0;32m/data/teach/cs110/lectures/Lecture2-Bit-control-flow/byubit.py\u001b[0m in \u001b[0;36mmove\u001b[0;34m(self)\u001b[0m\n\u001b[1;32m    178\u001b[0m         \u001b[0mnext_pos\u001b[0m \u001b[0;34m=\u001b[0m \u001b[0mself\u001b[0m\u001b[0;34m.\u001b[0m\u001b[0m_get_next_pos\u001b[0m\u001b[0;34m(\u001b[0m\u001b[0;34m)\u001b[0m\u001b[0;34m\u001b[0m\u001b[0;34m\u001b[0m\u001b[0m\n\u001b[1;32m    179\u001b[0m         \u001b[0;32mif\u001b[0m \u001b[0;32mnot\u001b[0m \u001b[0mself\u001b[0m\u001b[0;34m.\u001b[0m\u001b[0m_pos_in_bounds\u001b[0m\u001b[0;34m(\u001b[0m\u001b[0mnext_pos\u001b[0m\u001b[0;34m)\u001b[0m\u001b[0;34m:\u001b[0m\u001b[0;34m\u001b[0m\u001b[0;34m\u001b[0m\u001b[0m\n\u001b[0;32m--> 180\u001b[0;31m             \u001b[0;32mraise\u001b[0m \u001b[0mMoveOutOfBoundsException\u001b[0m\u001b[0;34m(\u001b[0m\u001b[0;34mf\"Bit tried to move to {next_pos}, but that is out of bounds\"\u001b[0m\u001b[0;34m)\u001b[0m\u001b[0;34m\u001b[0m\u001b[0;34m\u001b[0m\u001b[0m\n\u001b[0m\u001b[1;32m    181\u001b[0m         \u001b[0;32melif\u001b[0m \u001b[0mself\u001b[0m\u001b[0;34m.\u001b[0m\u001b[0m_get_color_at\u001b[0m\u001b[0;34m(\u001b[0m\u001b[0mnext_pos\u001b[0m\u001b[0;34m)\u001b[0m \u001b[0;34m==\u001b[0m \u001b[0mBLACK\u001b[0m\u001b[0;34m:\u001b[0m\u001b[0;34m\u001b[0m\u001b[0;34m\u001b[0m\u001b[0m\n\u001b[1;32m    182\u001b[0m             \u001b[0;32mraise\u001b[0m \u001b[0mMoveBlockedByBlackException\u001b[0m\u001b[0;34m(\u001b[0m\u001b[0mnext_pos\u001b[0m\u001b[0;34m)\u001b[0m\u001b[0;34m\u001b[0m\u001b[0;34m\u001b[0m\u001b[0m\n",
      "\u001b[0;31mMoveOutOfBoundsException\u001b[0m: Bit tried to move to [ 6 10], but that is out of bounds"
     ]
    }
   ],
   "source": [
    "# Solution attempt 1 - code live\n",
    "bit = Bit.load(\"tree-before.txt\")\n",
    "bit.draw()\n",
    "\n",
    "# Move to the red square\n",
    "while bit.get_color() != \"red\":\n",
    "    bit.move()\n",
    "bit.draw()\n",
    "\n",
    "# Move to the green square and paint\n",
    "bit.left()\n",
    "while bit.get_color() != 'green':\n",
    "    bit.move()\n",
    "    bit.paint('red')\n",
    "bit.draw()"
   ]
  },
  {
   "cell_type": "code",
   "execution_count": null,
   "id": "d74507b0",
   "metadata": {
    "slideshow": {
     "slide_type": "slide"
    }
   },
   "outputs": [],
   "source": [
    "bit = Bit.load(\"tree-before.txt\")\n",
    "bit.draw()\n",
    "\n",
    "# Move to the red square\n",
    "while bit.get_color() != \"red\":\n",
    "    bit.move()\n",
    "bit.draw()\n",
    "\n",
    "# Move up to the green, painting red as we go\n",
    "\n",
    "\n",
    "big.draw()"
   ]
  },
  {
   "cell_type": "markdown",
   "id": "c97b9468",
   "metadata": {
    "slideshow": {
     "slide_type": "slide"
    }
   },
   "source": [
    "### Oops!\n",
    "\n",
    "What happened?"
   ]
  },
  {
   "cell_type": "code",
   "execution_count": 43,
   "id": "e9eb59d0",
   "metadata": {
    "slideshow": {
     "slide_type": "fragment"
    }
   },
   "outputs": [
    {
     "data": {
      "image/png": "[encoded data removed]",
      "text/plain": [
       "<Figure size 432x288 with 1 Axes>"
      ]
     },
     "metadata": {
      "needs_background": "light"
     },
     "output_type": "display_data"
    }
   ],
   "source": [
    "bit.draw()"
   ]
  },
  {
   "cell_type": "markdown",
   "id": "be630fc9",
   "metadata": {
    "slideshow": {
     "slide_type": "fragment"
    }
   },
   "source": [
    "That's not quite what we expected. \n",
    "\n",
    "Rather than ask: \"Why didn't this work\", let's ask \"What sequence of steps did Bit take to get here\"?"
   ]
  },
  {
   "cell_type": "markdown",
   "id": "85161f21",
   "metadata": {
    "slideshow": {
     "slide_type": "slide"
    }
   },
   "source": [
    "Let's look at the code:\n",
    "\n",
    "```python\n",
    "# Move to the green square and paint\n",
    "bit.left()\n",
    "while bit.get_color() != 'green':\n",
    "    bit.move()\n",
    "    bit.paint('red')\n",
    "bit.draw()\n",
    "```"
   ]
  },
  {
   "cell_type": "markdown",
   "id": "dfe12968",
   "metadata": {
    "slideshow": {
     "slide_type": "fragment"
    }
   },
   "source": [
    "How does the *paint red* and *`while` condition* interact?\n",
    "\n",
    "- Am I on a green color?\n",
    "  - No, I'm on a red color, so move and paint red\n",
    "- Am I on a green color?\n",
    "  - No, I'm on a red color, so move and paint red\n",
    "- Am I on a green color?\n",
    "  - No, I'm on a red color, so move and paint red\n",
    "- Am I on a green color?\n",
    "  - No, I'm on a red color, so move and paint red"
   ]
  },
  {
   "cell_type": "markdown",
   "id": "a9ef9f68",
   "metadata": {
    "slideshow": {
     "slide_type": "fragment"
    }
   },
   "source": [
    "<div class='big centered'> 🤔 </div>"
   ]
  },
  {
   "cell_type": "markdown",
   "id": "bb5845af",
   "metadata": {
    "slideshow": {
     "slide_type": "slide"
    }
   },
   "source": [
    "### Solution\n",
    "\n",
    "So, we're cobbering the color of the square with red before we check whether it is green.\n",
    "\n",
    "How do we fix it?"
   ]
  },
  {
   "cell_type": "markdown",
   "id": "8e2d6bdb",
   "metadata": {
    "slideshow": {
     "slide_type": "slide"
    }
   },
   "source": [
    "There are several ways we could address it.\n",
    "\n",
    "Let's say we only want to paint empty squares red. Then we'll never clobber a colored square."
   ]
  },
  {
   "cell_type": "code",
   "execution_count": 70,
   "id": "12160e59",
   "metadata": {
    "slideshow": {
     "slide_type": "fragment"
    }
   },
   "outputs": [
    {
     "data": {
      "image/png": "[encoded data removed]",
      "text/plain": [
       "<Figure size 432x288 with 1 Axes>"
      ]
     },
     "metadata": {
      "needs_background": "light"
     },
     "output_type": "display_data"
    },
    {
     "data": {
      "image/png": "[encoded data removed]",
      "text/plain": [
       "<Figure size 432x288 with 1 Axes>"
      ]
     },
     "metadata": {
      "needs_background": "light"
     },
     "output_type": "display_data"
    },
    {
     "data": {
      "image/png": "[encoded data removed]",
      "text/plain": [
       "<Figure size 432x288 with 1 Axes>"
      ]
     },
     "metadata": {
      "needs_background": "light"
     },
     "output_type": "display_data"
    }
   ],
   "source": [
    "# Solution - code live\n",
    "bit = Bit.load(\"tree-before.txt\")\n",
    "bit.draw()\n",
    "\n",
    "# Move to the red square\n",
    "while bit.get_color() != \"red\":\n",
    "    bit.move()\n",
    "bit.draw()\n",
    "\n",
    "# Move to the green square and paint\n",
    "bit.left()\n",
    "while bit.get_color() != 'green':\n",
    "    bit.move()\n",
    "    if bit.get_color() == None:\n",
    "        bit.paint('red')\n",
    "bit.draw()"
   ]
  },
  {
   "cell_type": "code",
   "execution_count": null,
   "id": "a32f790b",
   "metadata": {},
   "outputs": [],
   "source": [
    "bit = Bit.load(\"tree-before.txt\")\n",
    "bit.draw()\n",
    "\n",
    "# Move to the red square\n",
    "while bit.get_color() != \"red\":\n",
    "    bit.move()\n",
    "bit.draw()\n",
    "\n",
    "# Move to the green square and paint\n",
    "# Something isn't working right...please fix it.\n",
    "bit.left()\n",
    "while bit.get_color() != 'green':\n",
    "    bit.move()\n",
    "    bit.paint('red')\n",
    "bit.draw()"
   ]
  },
  {
   "cell_type": "markdown",
   "id": "f5301bbd",
   "metadata": {
    "slideshow": {
     "slide_type": "slide"
    }
   },
   "source": [
    "#### Other solution\n",
    "\n",
    "We could add a `bit.move()` before our second `while` block and then switch the order of `bit.move()` and `bit.paint()` in the `while` block. "
   ]
  },
  {
   "cell_type": "code",
   "execution_count": 46,
   "id": "b4d82733",
   "metadata": {
    "slideshow": {
     "slide_type": "skip"
    }
   },
   "outputs": [
    {
     "data": {
      "image/png": "[encoded data removed]",
      "text/plain": [
       "<Figure size 432x288 with 1 Axes>"
      ]
     },
     "metadata": {
      "needs_background": "light"
     },
     "output_type": "display_data"
    },
    {
     "data": {
      "image/png": "[encoded data removed]",
      "text/plain": [
       "<Figure size 432x288 with 1 Axes>"
      ]
     },
     "metadata": {
      "needs_background": "light"
     },
     "output_type": "display_data"
    }
   ],
   "source": [
    "# Solution - code live\n",
    "bit = Bit.load(\"tree-before.txt\")\n",
    "\n",
    "# Move to the red square\n",
    "while bit.get_color() != \"red\":\n",
    "    bit.move()\n",
    "\n",
    "# Move to the green square and paint\n",
    "bit.left()\n",
    "bit.move()\n",
    "bit.draw()\n",
    "while bit.get_color() != 'green':\n",
    "    bit.paint('red')\n",
    "    bit.move()\n",
    "bit.draw()"
   ]
  },
  {
   "cell_type": "code",
   "execution_count": null,
   "id": "0544e354",
   "metadata": {
    "slideshow": {
     "slide_type": "fragment"
    }
   },
   "outputs": [],
   "source": [
    "bit = Bit.load(\"tree-before.txt\")\n",
    "bit.draw()\n",
    "\n",
    "# Move to the red square\n",
    "while bit.get_color() != \"red\":\n",
    "    bit.move()\n",
    "bit.draw()\n",
    "\n",
    "# Move to the green square and paint\n",
    "# Something isn't working right...please fix it.\n",
    "bit.left()\n",
    "while bit.get_color() != 'green':\n",
    "    bit.move()\n",
    "    bit.paint('red')\n",
    "bit.draw()"
   ]
  },
  {
   "cell_type": "markdown",
   "id": "b95e4a02",
   "metadata": {
    "slideshow": {
     "slide_type": "slide"
    }
   },
   "source": [
    "Either solution is good. \n",
    "\n",
    "Each person will have an individual preference for which solution they prefer. \n",
    "\n",
    "That's OK!"
   ]
  },
  {
   "cell_type": "markdown",
   "id": "1c116309",
   "metadata": {
    "slideshow": {
     "slide_type": "slide"
    }
   },
   "source": [
    "## Thinking, Drawing, Coding\n",
    "\n",
    "Use drawings to help yourself understand the task at hand and the current state of your code. \n",
    "\n",
    "This isn't a \"beginner's crutch\"—seasoned professionals do this too!"
   ]
  },
  {
   "cell_type": "markdown",
   "id": "09613ace",
   "metadata": {
    "slideshow": {
     "slide_type": "slide"
    }
   },
   "source": [
    "## More bricks for the bag"
   ]
  },
  {
   "cell_type": "markdown",
   "id": "c19bfeda",
   "metadata": {
    "slideshow": {
     "slide_type": "slide"
    }
   },
   "source": [
    "### Clear?\n",
    "\n",
    "```python\n",
    "bit.left_clear()\n",
    "bit.right_clear()\n",
    "```\n",
    "\n",
    "These are like `bit.front_clear()`, but checks on the side."
   ]
  },
  {
   "cell_type": "markdown",
   "id": "44ec6b30",
   "metadata": {
    "slideshow": {
     "slide_type": "slide"
    }
   },
   "source": [
    "### Blocked squares\n",
    "\n",
    "Sometimes Bit will encounter blocked squares. They are colored black. "
   ]
  },
  {
   "cell_type": "code",
   "execution_count": 48,
   "id": "f740bf9c",
   "metadata": {
    "slideshow": {
     "slide_type": "skip"
    }
   },
   "outputs": [
    {
     "name": "stdout",
     "output_type": "stream",
     "text": [
      "Writing blocked-squares.txt\n"
     ]
    }
   ],
   "source": [
    "%%file blocked-squares.txt\n",
    "---\n",
    "--k\n",
    "-k-\n",
    "1 1\n",
    "0"
   ]
  },
  {
   "cell_type": "code",
   "execution_count": 51,
   "id": "c2bf9ccc",
   "metadata": {
    "slideshow": {
     "slide_type": "fragment"
    }
   },
   "outputs": [
    {
     "data": {
      "image/png": "[encoded data removed]",
      "text/plain": [
       "<Figure size 432x288 with 1 Axes>"
      ]
     },
     "metadata": {
      "needs_background": "light"
     },
     "output_type": "display_data"
    },
    {
     "name": "stdout",
     "output_type": "stream",
     "text": [
      "Front clear: \n",
      "False\n",
      "Left clear: \n",
      "True\n",
      "Right clear: \n",
      "False\n"
     ]
    }
   ],
   "source": [
    "bit = Bit.load(\"blocked-squares.txt\")\n",
    "bit.draw()\n",
    "\n",
    "print(\"Front clear: \")\n",
    "print(bit.front_clear())\n",
    "\n",
    "print(\"Left clear: \")\n",
    "print(bit.left_clear())\n",
    "\n",
    "print(\"Right clear: \")\n",
    "print(bit.right_clear())"
   ]
  },
  {
   "cell_type": "code",
   "execution_count": 52,
   "id": "c7e89876",
   "metadata": {
    "slideshow": {
     "slide_type": "skip"
    }
   },
   "outputs": [
    {
     "name": "stdout",
     "output_type": "stream",
     "text": [
      "Writing while-right-clear.txt\n"
     ]
    }
   ],
   "source": [
    "%%file while-right-clear.txt\n",
    "------\n",
    "------\n",
    "---kkk\n",
    "----kk\n",
    "0 2\n",
    "0"
   ]
  },
  {
   "cell_type": "code",
   "execution_count": 53,
   "id": "6657f304",
   "metadata": {
    "slideshow": {
     "slide_type": "slide"
    }
   },
   "outputs": [
    {
     "data": {
      "image/png": "[encoded data removed]",
      "text/plain": [
       "<Figure size 432x288 with 1 Axes>"
      ]
     },
     "metadata": {
      "needs_background": "light"
     },
     "output_type": "display_data"
    },
    {
     "data": {
      "image/png": "[encoded data removed]",
      "text/plain": [
       "<Figure size 432x288 with 1 Axes>"
      ]
     },
     "metadata": {
      "needs_background": "light"
     },
     "output_type": "display_data"
    }
   ],
   "source": [
    "bit = Bit.load('while-right-clear.txt')\n",
    "bit.draw()\n",
    "\n",
    "while bit.right_clear():\n",
    "    bit.move()\n",
    "    \n",
    "bit.draw()"
   ]
  },
  {
   "cell_type": "markdown",
   "id": "7dd8a363",
   "metadata": {
    "slideshow": {
     "slide_type": "slide"
    }
   },
   "source": [
    "### `not`\n",
    "\n",
    "`not` in python changes a `True` to `False` and a `False` to `True`.\n",
    "\n",
    "```python\n",
    "while not bit.right_clear():\n",
    "    bit.move()\n",
    "```"
   ]
  },
  {
   "cell_type": "code",
   "execution_count": 54,
   "id": "5326dcdf",
   "metadata": {
    "slideshow": {
     "slide_type": "fragment"
    }
   },
   "outputs": [
    {
     "name": "stdout",
     "output_type": "stream",
     "text": [
      "False\n"
     ]
    }
   ],
   "source": [
    "print(not True)"
   ]
  },
  {
   "cell_type": "markdown",
   "id": "46410f3d",
   "metadata": {
    "slideshow": {
     "slide_type": "slide"
    }
   },
   "source": [
    "## Bit Puzzles\n",
    "\n",
    "<https://byucs110.org/resources/bit-puzzles/>"
   ]
  },
  {
   "cell_type": "markdown",
   "id": "fc2f3bb6",
   "metadata": {
    "slideshow": {
     "slide_type": "slide"
    }
   },
   "source": [
    "## Reverse Coyote\n",
    "\n",
    "Remember Wiley Coyote from the old cartoon *Roadrunner*?\n",
    "\n",
    "He's always running off of cliffs and suspends in the air for a moment before falling.\n",
    "\n",
    "Sometimes he's able to run back to the cliff before he falls. Let's help him out."
   ]
  },
  {
   "cell_type": "code",
   "execution_count": 55,
   "id": "e877ac86",
   "metadata": {
    "slideshow": {
     "slide_type": "skip"
    }
   },
   "outputs": [
    {
     "name": "stdout",
     "output_type": "stream",
     "text": [
      "Writing reverse-coyote-start.txt\n"
     ]
    }
   ],
   "source": [
    "%%file reverse-coyote-start.txt\n",
    "------\n",
    "------\n",
    "---kkk\n",
    "----kk\n",
    "0 2\n",
    "0"
   ]
  },
  {
   "cell_type": "code",
   "execution_count": 59,
   "id": "35c0b6fd",
   "metadata": {
    "slideshow": {
     "slide_type": "skip"
    }
   },
   "outputs": [
    {
     "name": "stdout",
     "output_type": "stream",
     "text": [
      "Overwriting reverse-coyote-finish.txt\n"
     ]
    }
   ],
   "source": [
    "%%file reverse-coyote-finish.txt\n",
    "------\n",
    "gbbb--\n",
    "---kkk\n",
    "----kk\n",
    "3 2\n",
    "0"
   ]
  },
  {
   "cell_type": "code",
   "execution_count": 60,
   "id": "9f5f0810",
   "metadata": {
    "slideshow": {
     "slide_type": "slide"
    }
   },
   "outputs": [
    {
     "data": {
      "image/png": "[encoded data removed]",
      "text/plain": [
       "<Figure size 432x288 with 1 Axes>"
      ]
     },
     "metadata": {
      "needs_background": "light"
     },
     "output_type": "display_data"
    }
   ],
   "source": [
    "bit = Bit.load(\"reverse-coyote-start.txt\")\n",
    "bit.draw()"
   ]
  },
  {
   "cell_type": "code",
   "execution_count": 61,
   "id": "911921f5",
   "metadata": {
    "slideshow": {
     "slide_type": "fragment"
    }
   },
   "outputs": [
    {
     "data": {
      "image/png": "[encoded data removed]",
      "text/plain": [
       "<Figure size 432x288 with 1 Axes>"
      ]
     },
     "metadata": {
      "needs_background": "light"
     },
     "output_type": "display_data"
    }
   ],
   "source": [
    "Bit.load(\"reverse-coyote-finish.txt\").draw()"
   ]
  },
  {
   "cell_type": "markdown",
   "id": "7ebd0bb6",
   "metadata": {
    "slideshow": {
     "slide_type": "fragment"
    }
   },
   "source": [
    "What is the test for this? Under what conditions do we want Bit to move?"
   ]
  },
  {
   "cell_type": "code",
   "execution_count": 62,
   "id": "8143340f",
   "metadata": {
    "slideshow": {
     "slide_type": "slide"
    }
   },
   "outputs": [
    {
     "name": "stdout",
     "output_type": "stream",
     "text": [
      "Color at 0,2 does not match: None vs green\n",
      "Color at 1,2 does not match: None vs blue\n",
      "Color at 2,2 does not match: None vs blue\n",
      "Color at 3,2 does not match: None vs blue\n",
      "Location of Bit does not match: (0, 2) vs (3, 2)\n"
     ]
    },
    {
     "data": {
      "image/png": "[encoded data removed]",
      "text/plain": [
       "<Figure size 864x288 with 3 Axes>"
      ]
     },
     "metadata": {
      "needs_background": "light"
     },
     "output_type": "display_data"
    }
   ],
   "source": [
    "bit = Bit.load(\"reverse-coyote-start.txt\")\n",
    "\n",
    "# fill in the rest!\n",
    "\n",
    "bit.compare(Bit.load(\"reverse-coyote-finish.txt\"))"
   ]
  }
 ],
 "metadata": {
  "celltoolbar": "Slideshow",
  "kernelspec": {
   "display_name": "Python 3 (ipykernel)",
   "language": "python",
   "name": "python3"
  },
  "language_info": {
   "codemirror_mode": {
    "name": "ipython",
    "version": 3
   },
   "file_extension": ".py",
   "mimetype": "text/x-python",
   "name": "python",
   "nbconvert_exporter": "python",
   "pygments_lexer": "ipython3",
   "version": "3.9.5"
  }
 },
 "nbformat": 4,
 "nbformat_minor": 5
}
